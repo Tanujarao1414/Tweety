{
 "cells": [
  {
   "cell_type": "code",
   "execution_count": 1,
   "metadata": {},
   "outputs": [],
   "source": [
    "import pandas as pd\n",
    "import numpy as np"
   ]
  },
  {
   "cell_type": "code",
   "execution_count": 2,
   "metadata": {},
   "outputs": [],
   "source": [
    "\n",
    "df=pd.read_csv('Tesla.csv')"
   ]
  },
  {
   "cell_type": "code",
   "execution_count": 3,
   "metadata": {},
   "outputs": [
    {
     "data": {
      "text/html": [
       "<div>\n",
       "<style scoped>\n",
       "    .dataframe tbody tr th:only-of-type {\n",
       "        vertical-align: middle;\n",
       "    }\n",
       "\n",
       "    .dataframe tbody tr th {\n",
       "        vertical-align: top;\n",
       "    }\n",
       "\n",
       "    .dataframe thead th {\n",
       "        text-align: right;\n",
       "    }\n",
       "</style>\n",
       "<table border=\"1\" class=\"dataframe\">\n",
       "  <thead>\n",
       "    <tr style=\"text-align: right;\">\n",
       "      <th></th>\n",
       "      <th>id</th>\n",
       "      <th>conversation_id</th>\n",
       "      <th>created_at</th>\n",
       "      <th>date</th>\n",
       "      <th>time</th>\n",
       "      <th>timezone</th>\n",
       "      <th>user_id</th>\n",
       "      <th>username</th>\n",
       "      <th>name</th>\n",
       "      <th>place</th>\n",
       "      <th>...</th>\n",
       "      <th>geo</th>\n",
       "      <th>source</th>\n",
       "      <th>user_rt_id</th>\n",
       "      <th>user_rt</th>\n",
       "      <th>retweet_id</th>\n",
       "      <th>reply_to</th>\n",
       "      <th>retweet_date</th>\n",
       "      <th>translate</th>\n",
       "      <th>trans_src</th>\n",
       "      <th>trans_dest</th>\n",
       "    </tr>\n",
       "  </thead>\n",
       "  <tbody>\n",
       "    <tr>\n",
       "      <th>0</th>\n",
       "      <td>1269736701410398209</td>\n",
       "      <td>1269736701410398209</td>\n",
       "      <td>1591563794000</td>\n",
       "      <td>2020-06-08</td>\n",
       "      <td>02:33:14</td>\n",
       "      <td>India Standard Time</td>\n",
       "      <td>3030968846</td>\n",
       "      <td>f1mclaren2</td>\n",
       "      <td>Everything will be alright- Galatasaray</td>\n",
       "      <td>NaN</td>\n",
       "      <td>...</td>\n",
       "      <td>NaN</td>\n",
       "      <td>NaN</td>\n",
       "      <td>NaN</td>\n",
       "      <td>NaN</td>\n",
       "      <td>NaN</td>\n",
       "      <td>[{'user_id': '3030968846', 'username': 'F1mcla...</td>\n",
       "      <td>NaN</td>\n",
       "      <td>NaN</td>\n",
       "      <td>NaN</td>\n",
       "      <td>NaN</td>\n",
       "    </tr>\n",
       "    <tr>\n",
       "      <th>1</th>\n",
       "      <td>1269736672415154176</td>\n",
       "      <td>1269691244785131522</td>\n",
       "      <td>1591563787000</td>\n",
       "      <td>2020-06-08</td>\n",
       "      <td>02:33:07</td>\n",
       "      <td>India Standard Time</td>\n",
       "      <td>1259145920442220545</td>\n",
       "      <td>wrobelli</td>\n",
       "      <td>Wolf Robelli</td>\n",
       "      <td>NaN</td>\n",
       "      <td>...</td>\n",
       "      <td>NaN</td>\n",
       "      <td>NaN</td>\n",
       "      <td>NaN</td>\n",
       "      <td>NaN</td>\n",
       "      <td>NaN</td>\n",
       "      <td>[{'user_id': '1259145920442220545', 'username'...</td>\n",
       "      <td>NaN</td>\n",
       "      <td>NaN</td>\n",
       "      <td>NaN</td>\n",
       "      <td>NaN</td>\n",
       "    </tr>\n",
       "    <tr>\n",
       "      <th>2</th>\n",
       "      <td>1269736634553176066</td>\n",
       "      <td>1269736634553176066</td>\n",
       "      <td>1591563778000</td>\n",
       "      <td>2020-06-08</td>\n",
       "      <td>02:32:58</td>\n",
       "      <td>India Standard Time</td>\n",
       "      <td>1291065829</td>\n",
       "      <td>shinto_se</td>\n",
       "      <td>SHINTO SELF EMPOWERMENT</td>\n",
       "      <td>NaN</td>\n",
       "      <td>...</td>\n",
       "      <td>NaN</td>\n",
       "      <td>NaN</td>\n",
       "      <td>NaN</td>\n",
       "      <td>NaN</td>\n",
       "      <td>NaN</td>\n",
       "      <td>[{'user_id': '1291065829', 'username': 'shinto...</td>\n",
       "      <td>NaN</td>\n",
       "      <td>NaN</td>\n",
       "      <td>NaN</td>\n",
       "      <td>NaN</td>\n",
       "    </tr>\n",
       "    <tr>\n",
       "      <th>3</th>\n",
       "      <td>1269736623123714054</td>\n",
       "      <td>1269640245424918529</td>\n",
       "      <td>1591563776000</td>\n",
       "      <td>2020-06-08</td>\n",
       "      <td>02:32:56</td>\n",
       "      <td>India Standard Time</td>\n",
       "      <td>4250738554</td>\n",
       "      <td>tomashearty</td>\n",
       "      <td>Paws R Us Capital Research</td>\n",
       "      <td>NaN</td>\n",
       "      <td>...</td>\n",
       "      <td>NaN</td>\n",
       "      <td>NaN</td>\n",
       "      <td>NaN</td>\n",
       "      <td>NaN</td>\n",
       "      <td>NaN</td>\n",
       "      <td>[{'user_id': '4250738554', 'username': 'TomasH...</td>\n",
       "      <td>NaN</td>\n",
       "      <td>NaN</td>\n",
       "      <td>NaN</td>\n",
       "      <td>NaN</td>\n",
       "    </tr>\n",
       "    <tr>\n",
       "      <th>4</th>\n",
       "      <td>1269736619621351426</td>\n",
       "      <td>1269713927845425154</td>\n",
       "      <td>1591563775000</td>\n",
       "      <td>2020-06-08</td>\n",
       "      <td>02:32:55</td>\n",
       "      <td>India Standard Time</td>\n",
       "      <td>1243720630354292737</td>\n",
       "      <td>atlantamumzy</td>\n",
       "      <td>Mumzy Atlanta</td>\n",
       "      <td>NaN</td>\n",
       "      <td>...</td>\n",
       "      <td>NaN</td>\n",
       "      <td>NaN</td>\n",
       "      <td>NaN</td>\n",
       "      <td>NaN</td>\n",
       "      <td>NaN</td>\n",
       "      <td>[{'user_id': '1243720630354292737', 'username'...</td>\n",
       "      <td>NaN</td>\n",
       "      <td>NaN</td>\n",
       "      <td>NaN</td>\n",
       "      <td>NaN</td>\n",
       "    </tr>\n",
       "  </tbody>\n",
       "</table>\n",
       "<p>5 rows × 34 columns</p>\n",
       "</div>"
      ],
      "text/plain": [
       "                    id      conversation_id     created_at        date  \\\n",
       "0  1269736701410398209  1269736701410398209  1591563794000  2020-06-08   \n",
       "1  1269736672415154176  1269691244785131522  1591563787000  2020-06-08   \n",
       "2  1269736634553176066  1269736634553176066  1591563778000  2020-06-08   \n",
       "3  1269736623123714054  1269640245424918529  1591563776000  2020-06-08   \n",
       "4  1269736619621351426  1269713927845425154  1591563775000  2020-06-08   \n",
       "\n",
       "       time             timezone              user_id      username  \\\n",
       "0  02:33:14  India Standard Time           3030968846    f1mclaren2   \n",
       "1  02:33:07  India Standard Time  1259145920442220545      wrobelli   \n",
       "2  02:32:58  India Standard Time           1291065829     shinto_se   \n",
       "3  02:32:56  India Standard Time           4250738554   tomashearty   \n",
       "4  02:32:55  India Standard Time  1243720630354292737  atlantamumzy   \n",
       "\n",
       "                                      name  place  ... geo source user_rt_id  \\\n",
       "0  Everything will be alright- Galatasaray    NaN  ... NaN    NaN        NaN   \n",
       "1                             Wolf Robelli    NaN  ... NaN    NaN        NaN   \n",
       "2                  SHINTO SELF EMPOWERMENT    NaN  ... NaN    NaN        NaN   \n",
       "3               Paws R Us Capital Research    NaN  ... NaN    NaN        NaN   \n",
       "4                            Mumzy Atlanta    NaN  ... NaN    NaN        NaN   \n",
       "\n",
       "  user_rt  retweet_id                                           reply_to  \\\n",
       "0     NaN         NaN  [{'user_id': '3030968846', 'username': 'F1mcla...   \n",
       "1     NaN         NaN  [{'user_id': '1259145920442220545', 'username'...   \n",
       "2     NaN         NaN  [{'user_id': '1291065829', 'username': 'shinto...   \n",
       "3     NaN         NaN  [{'user_id': '4250738554', 'username': 'TomasH...   \n",
       "4     NaN         NaN  [{'user_id': '1243720630354292737', 'username'...   \n",
       "\n",
       "   retweet_date translate trans_src trans_dest  \n",
       "0           NaN       NaN       NaN        NaN  \n",
       "1           NaN       NaN       NaN        NaN  \n",
       "2           NaN       NaN       NaN        NaN  \n",
       "3           NaN       NaN       NaN        NaN  \n",
       "4           NaN       NaN       NaN        NaN  \n",
       "\n",
       "[5 rows x 34 columns]"
      ]
     },
     "execution_count": 3,
     "metadata": {},
     "output_type": "execute_result"
    }
   ],
   "source": [
    "\n",
    "df.head(5)"
   ]
  },
  {
   "cell_type": "code",
   "execution_count": 4,
   "metadata": {},
   "outputs": [
    {
     "data": {
      "text/html": [
       "<div>\n",
       "<style scoped>\n",
       "    .dataframe tbody tr th:only-of-type {\n",
       "        vertical-align: middle;\n",
       "    }\n",
       "\n",
       "    .dataframe tbody tr th {\n",
       "        vertical-align: top;\n",
       "    }\n",
       "\n",
       "    .dataframe thead th {\n",
       "        text-align: right;\n",
       "    }\n",
       "</style>\n",
       "<table border=\"1\" class=\"dataframe\">\n",
       "  <thead>\n",
       "    <tr style=\"text-align: right;\">\n",
       "      <th></th>\n",
       "      <th>id</th>\n",
       "      <th>username</th>\n",
       "      <th>name</th>\n",
       "      <th>tweet</th>\n",
       "    </tr>\n",
       "  </thead>\n",
       "  <tbody>\n",
       "    <tr>\n",
       "      <th>0</th>\n",
       "      <td>1269736701410398209</td>\n",
       "      <td>f1mclaren2</td>\n",
       "      <td>Everything will be alright- Galatasaray</td>\n",
       "      <td>Tesla  https://twitter.com/hatiice_ak/status/1...</td>\n",
       "    </tr>\n",
       "    <tr>\n",
       "      <th>1</th>\n",
       "      <td>1269736672415154176</td>\n",
       "      <td>wrobelli</td>\n",
       "      <td>Wolf Robelli</td>\n",
       "      <td>Man sollte diese Menschen mal für ein paar Woc...</td>\n",
       "    </tr>\n",
       "    <tr>\n",
       "      <th>2</th>\n",
       "      <td>1269736634553176066</td>\n",
       "      <td>shinto_se</td>\n",
       "      <td>SHINTO SELF EMPOWERMENT</td>\n",
       "      <td>Vortex Math Part 7 Nikola Tesla 3 6 9 - The Se...</td>\n",
       "    </tr>\n",
       "    <tr>\n",
       "      <th>3</th>\n",
       "      <td>1269736623123714054</td>\n",
       "      <td>tomashearty</td>\n",
       "      <td>Paws R Us Capital Research</td>\n",
       "      <td>So he’s like Tesla. (“)Dead(“) but with ATH ra...</td>\n",
       "    </tr>\n",
       "    <tr>\n",
       "      <th>4</th>\n",
       "      <td>1269736619621351426</td>\n",
       "      <td>atlantamumzy</td>\n",
       "      <td>Mumzy Atlanta</td>\n",
       "      <td>I guess the easiest way to describe it, is Nik...</td>\n",
       "    </tr>\n",
       "    <tr>\n",
       "      <th>...</th>\n",
       "      <td>...</td>\n",
       "      <td>...</td>\n",
       "      <td>...</td>\n",
       "      <td>...</td>\n",
       "    </tr>\n",
       "    <tr>\n",
       "      <th>375</th>\n",
       "      <td>1269724596305039361</td>\n",
       "      <td>k__mckk</td>\n",
       "      <td>km</td>\n",
       "      <td>my mind really drives itself like Tesla</td>\n",
       "    </tr>\n",
       "    <tr>\n",
       "      <th>376</th>\n",
       "      <td>1269724577019633665</td>\n",
       "      <td>liltubby211</td>\n",
       "      <td>chris 👁💔👁</td>\n",
       "      <td>Fuck a girlfriend I want a Tesla 🥱.</td>\n",
       "    </tr>\n",
       "    <tr>\n",
       "      <th>377</th>\n",
       "      <td>1269724569306304512</td>\n",
       "      <td>farmfreshpower</td>\n",
       "      <td>Steve Castle</td>\n",
       "      <td>Thank you for your service!</td>\n",
       "    </tr>\n",
       "    <tr>\n",
       "      <th>378</th>\n",
       "      <td>1269724558833131523</td>\n",
       "      <td>mesopotamie_94</td>\n",
       "      <td>Mésopotamie</td>\n",
       "      <td>هههههههههه اي جديات وسن</td>\n",
       "    </tr>\n",
       "    <tr>\n",
       "      <th>379</th>\n",
       "      <td>1269724510518947845</td>\n",
       "      <td>alandbru</td>\n",
       "      <td>Aland Bru</td>\n",
       "      <td>Interesante 🧐 gracias</td>\n",
       "    </tr>\n",
       "  </tbody>\n",
       "</table>\n",
       "<p>380 rows × 4 columns</p>\n",
       "</div>"
      ],
      "text/plain": [
       "                      id        username  \\\n",
       "0    1269736701410398209      f1mclaren2   \n",
       "1    1269736672415154176        wrobelli   \n",
       "2    1269736634553176066       shinto_se   \n",
       "3    1269736623123714054     tomashearty   \n",
       "4    1269736619621351426    atlantamumzy   \n",
       "..                   ...             ...   \n",
       "375  1269724596305039361         k__mckk   \n",
       "376  1269724577019633665     liltubby211   \n",
       "377  1269724569306304512  farmfreshpower   \n",
       "378  1269724558833131523  mesopotamie_94   \n",
       "379  1269724510518947845        alandbru   \n",
       "\n",
       "                                        name  \\\n",
       "0    Everything will be alright- Galatasaray   \n",
       "1                               Wolf Robelli   \n",
       "2                    SHINTO SELF EMPOWERMENT   \n",
       "3                 Paws R Us Capital Research   \n",
       "4                              Mumzy Atlanta   \n",
       "..                                       ...   \n",
       "375                                       km   \n",
       "376                                chris 👁💔👁   \n",
       "377                             Steve Castle   \n",
       "378                              Mésopotamie   \n",
       "379                                Aland Bru   \n",
       "\n",
       "                                                 tweet  \n",
       "0    Tesla  https://twitter.com/hatiice_ak/status/1...  \n",
       "1    Man sollte diese Menschen mal für ein paar Woc...  \n",
       "2    Vortex Math Part 7 Nikola Tesla 3 6 9 - The Se...  \n",
       "3    So he’s like Tesla. (“)Dead(“) but with ATH ra...  \n",
       "4    I guess the easiest way to describe it, is Nik...  \n",
       "..                                                 ...  \n",
       "375            my mind really drives itself like Tesla  \n",
       "376                Fuck a girlfriend I want a Tesla 🥱.  \n",
       "377                        Thank you for your service!  \n",
       "378                            هههههههههه اي جديات وسن  \n",
       "379                              Interesante 🧐 gracias  \n",
       "\n",
       "[380 rows x 4 columns]"
      ]
     },
     "execution_count": 4,
     "metadata": {},
     "output_type": "execute_result"
    }
   ],
   "source": [
    "New_df=df[['id','username','name','tweet']]\n",
    "New_df"
   ]
  },
  {
   "cell_type": "code",
   "execution_count": 5,
   "metadata": {},
   "outputs": [
    {
     "data": {
      "text/plain": [
       "(380, 4)"
      ]
     },
     "execution_count": 5,
     "metadata": {},
     "output_type": "execute_result"
    }
   ],
   "source": [
    "New_df.shape\n"
   ]
  },
  {
   "cell_type": "code",
   "execution_count": 6,
   "metadata": {},
   "outputs": [
    {
     "name": "stderr",
     "output_type": "stream",
     "text": [
      "C:\\Users\\HP\\anaconda3\\lib\\site-packages\\ipykernel_launcher.py:2: SettingWithCopyWarning: \n",
      "A value is trying to be set on a copy of a slice from a DataFrame\n",
      "\n",
      "See the caveats in the documentation: https://pandas.pydata.org/pandas-docs/stable/user_guide/indexing.html#returning-a-view-versus-a-copy\n",
      "  \n"
     ]
    }
   ],
   "source": [
    "from sklearn.feature_extraction.text import TfidfVectorizer,CountVectorizer\n",
    "New_df.dropna(inplace=True)"
   ]
  },
  {
   "cell_type": "code",
   "execution_count": 7,
   "metadata": {},
   "outputs": [
    {
     "data": {
      "text/plain": [
       "(380, 4)"
      ]
     },
     "execution_count": 7,
     "metadata": {},
     "output_type": "execute_result"
    }
   ],
   "source": [
    "New_df.shape"
   ]
  },
  {
   "cell_type": "code",
   "execution_count": 8,
   "metadata": {},
   "outputs": [
    {
     "data": {
      "text/html": [
       "<div>\n",
       "<style scoped>\n",
       "    .dataframe tbody tr th:only-of-type {\n",
       "        vertical-align: middle;\n",
       "    }\n",
       "\n",
       "    .dataframe tbody tr th {\n",
       "        vertical-align: top;\n",
       "    }\n",
       "\n",
       "    .dataframe thead th {\n",
       "        text-align: right;\n",
       "    }\n",
       "</style>\n",
       "<table border=\"1\" class=\"dataframe\">\n",
       "  <thead>\n",
       "    <tr style=\"text-align: right;\">\n",
       "      <th></th>\n",
       "      <th>id</th>\n",
       "      <th>username</th>\n",
       "      <th>name</th>\n",
       "      <th>tweet</th>\n",
       "    </tr>\n",
       "  </thead>\n",
       "  <tbody>\n",
       "    <tr>\n",
       "      <th>0</th>\n",
       "      <td>1269736701410398209</td>\n",
       "      <td>f1mclaren2</td>\n",
       "      <td>Everything will be alright- Galatasaray</td>\n",
       "      <td>Tesla  https://twitter.com/hatiice_ak/status/1...</td>\n",
       "    </tr>\n",
       "    <tr>\n",
       "      <th>1</th>\n",
       "      <td>1269736672415154176</td>\n",
       "      <td>wrobelli</td>\n",
       "      <td>Wolf Robelli</td>\n",
       "      <td>Man sollte diese Menschen mal für ein paar Woc...</td>\n",
       "    </tr>\n",
       "    <tr>\n",
       "      <th>2</th>\n",
       "      <td>1269736634553176066</td>\n",
       "      <td>shinto_se</td>\n",
       "      <td>SHINTO SELF EMPOWERMENT</td>\n",
       "      <td>Vortex Math Part 7 Nikola Tesla 3 6 9 - The Se...</td>\n",
       "    </tr>\n",
       "    <tr>\n",
       "      <th>3</th>\n",
       "      <td>1269736623123714054</td>\n",
       "      <td>tomashearty</td>\n",
       "      <td>Paws R Us Capital Research</td>\n",
       "      <td>So he’s like Tesla. (“)Dead(“) but with ATH ra...</td>\n",
       "    </tr>\n",
       "    <tr>\n",
       "      <th>4</th>\n",
       "      <td>1269736619621351426</td>\n",
       "      <td>atlantamumzy</td>\n",
       "      <td>Mumzy Atlanta</td>\n",
       "      <td>I guess the easiest way to describe it, is Nik...</td>\n",
       "    </tr>\n",
       "  </tbody>\n",
       "</table>\n",
       "</div>"
      ],
      "text/plain": [
       "                    id      username                                     name  \\\n",
       "0  1269736701410398209    f1mclaren2  Everything will be alright- Galatasaray   \n",
       "1  1269736672415154176      wrobelli                             Wolf Robelli   \n",
       "2  1269736634553176066     shinto_se                  SHINTO SELF EMPOWERMENT   \n",
       "3  1269736623123714054   tomashearty               Paws R Us Capital Research   \n",
       "4  1269736619621351426  atlantamumzy                            Mumzy Atlanta   \n",
       "\n",
       "                                               tweet  \n",
       "0  Tesla  https://twitter.com/hatiice_ak/status/1...  \n",
       "1  Man sollte diese Menschen mal für ein paar Woc...  \n",
       "2  Vortex Math Part 7 Nikola Tesla 3 6 9 - The Se...  \n",
       "3  So he’s like Tesla. (“)Dead(“) but with ATH ra...  \n",
       "4  I guess the easiest way to describe it, is Nik...  "
      ]
     },
     "execution_count": 8,
     "metadata": {},
     "output_type": "execute_result"
    }
   ],
   "source": [
    "tweet=New_df.copy()\n",
    "tweet.head()"
   ]
  },
  {
   "cell_type": "code",
   "execution_count": 9,
   "metadata": {},
   "outputs": [
    {
     "data": {
      "text/plain": [
       "'Man sollte diese Menschen mal für ein paar Wochen nach Venezuela schicken. Ohne veganen Latte Macchiato. Ohne Tesla. Ohne iphone. Das könnte helfen.'"
      ]
     },
     "execution_count": 9,
     "metadata": {},
     "output_type": "execute_result"
    }
   ],
   "source": [
    "tweet.tweet[1]"
   ]
  },
  {
   "cell_type": "code",
   "execution_count": 10,
   "metadata": {},
   "outputs": [
    {
     "name": "stderr",
     "output_type": "stream",
     "text": [
      "[nltk_data] Downloading package stopwords to\n",
      "[nltk_data]     C:\\Users\\HP\\AppData\\Roaming\\nltk_data...\n",
      "[nltk_data]   Unzipping corpora\\stopwords.zip.\n"
     ]
    },
    {
     "data": {
      "text/plain": [
       "True"
      ]
     },
     "execution_count": 10,
     "metadata": {},
     "output_type": "execute_result"
    }
   ],
   "source": [
    "import re\n",
    "import nltk\n",
    "nltk.download('stopwords')"
   ]
  },
  {
   "cell_type": "code",
   "execution_count": 11,
   "metadata": {},
   "outputs": [],
   "source": [
    "from nltk.corpus import stopwords\n",
    "from nltk.stem.porter import PorterStemmer\n",
    "ps=PorterStemmer()\n",
    "corpus=[]"
   ]
  },
  {
   "cell_type": "code",
   "execution_count": 12,
   "metadata": {},
   "outputs": [],
   "source": [
    "for i in range(0,len(tweet)):\n",
    "    review=re.sub('[^a-zA-Z]',' ',tweet['tweet'][i])\n",
    "    review=review.lower() \n",
    "    review=review.split()\n",
    "    review = [ps.stem(word) for word in review if not word in stopwords.words('english')]\n",
    "    review=' '.join(review)\n",
    "    corpus.append(review)"
   ]
  },
  {
   "cell_type": "code",
   "execution_count": 13,
   "metadata": {},
   "outputs": [
    {
     "data": {
      "text/plain": [
       "'man sollt dies menschen mal f r ein paar wochen nach venezuela schicken ohn veganen latt macchiato ohn tesla ohn iphon da k nnte helfen'"
      ]
     },
     "execution_count": 13,
     "metadata": {},
     "output_type": "execute_result"
    }
   ],
   "source": [
    "corpus[1]"
   ]
  },
  {
   "cell_type": "code",
   "execution_count": 14,
   "metadata": {},
   "outputs": [],
   "source": [
    "from sklearn.feature_extraction.text import TfidfVectorizer\n",
    "tfidf=TfidfVectorizer(max_features=5000,ngram_range=(1,3))  #NgRam gives the words the range..eg.\"good boy\" or \"Good one boy\"\n",
    "                                                         #First priority being the only word \"good\"\n",
    "X=tfidf.fit_transform(corpus).toarray()"
   ]
  },
  {
   "cell_type": "code",
   "execution_count": 15,
   "metadata": {},
   "outputs": [
    {
     "data": {
      "text/plain": [
       "(380, 5000)"
      ]
     },
     "execution_count": 15,
     "metadata": {},
     "output_type": "execute_result"
    }
   ],
   "source": [
    "X.shape"
   ]
  },
  {
   "cell_type": "code",
   "execution_count": 16,
   "metadata": {},
   "outputs": [
    {
     "name": "stderr",
     "output_type": "stream",
     "text": [
      "[nltk_data] Downloading package vader_lexicon to\n",
      "[nltk_data]     C:\\Users\\HP\\AppData\\Roaming\\nltk_data...\n"
     ]
    },
    {
     "data": {
      "text/plain": [
       "True"
      ]
     },
     "execution_count": 16,
     "metadata": {},
     "output_type": "execute_result"
    }
   ],
   "source": [
    "from nltk.sentiment.vader import SentimentIntensityAnalyzer\n",
    "nltk.download('vader_lexicon')"
   ]
  },
  {
   "cell_type": "code",
   "execution_count": 17,
   "metadata": {},
   "outputs": [
    {
     "data": {
      "text/html": [
       "<div>\n",
       "<style scoped>\n",
       "    .dataframe tbody tr th:only-of-type {\n",
       "        vertical-align: middle;\n",
       "    }\n",
       "\n",
       "    .dataframe tbody tr th {\n",
       "        vertical-align: top;\n",
       "    }\n",
       "\n",
       "    .dataframe thead th {\n",
       "        text-align: right;\n",
       "    }\n",
       "</style>\n",
       "<table border=\"1\" class=\"dataframe\">\n",
       "  <thead>\n",
       "    <tr style=\"text-align: right;\">\n",
       "      <th></th>\n",
       "      <th>id</th>\n",
       "      <th>username</th>\n",
       "      <th>name</th>\n",
       "      <th>tweet</th>\n",
       "    </tr>\n",
       "  </thead>\n",
       "  <tbody>\n",
       "    <tr>\n",
       "      <th>0</th>\n",
       "      <td>1269736701410398209</td>\n",
       "      <td>f1mclaren2</td>\n",
       "      <td>Everything will be alright- Galatasaray</td>\n",
       "      <td>Tesla  https://twitter.com/hatiice_ak/status/1...</td>\n",
       "    </tr>\n",
       "    <tr>\n",
       "      <th>1</th>\n",
       "      <td>1269736672415154176</td>\n",
       "      <td>wrobelli</td>\n",
       "      <td>Wolf Robelli</td>\n",
       "      <td>Man sollte diese Menschen mal für ein paar Woc...</td>\n",
       "    </tr>\n",
       "    <tr>\n",
       "      <th>2</th>\n",
       "      <td>1269736634553176066</td>\n",
       "      <td>shinto_se</td>\n",
       "      <td>SHINTO SELF EMPOWERMENT</td>\n",
       "      <td>Vortex Math Part 7 Nikola Tesla 3 6 9 - The Se...</td>\n",
       "    </tr>\n",
       "    <tr>\n",
       "      <th>3</th>\n",
       "      <td>1269736623123714054</td>\n",
       "      <td>tomashearty</td>\n",
       "      <td>Paws R Us Capital Research</td>\n",
       "      <td>So he’s like Tesla. (“)Dead(“) but with ATH ra...</td>\n",
       "    </tr>\n",
       "    <tr>\n",
       "      <th>4</th>\n",
       "      <td>1269736619621351426</td>\n",
       "      <td>atlantamumzy</td>\n",
       "      <td>Mumzy Atlanta</td>\n",
       "      <td>I guess the easiest way to describe it, is Nik...</td>\n",
       "    </tr>\n",
       "  </tbody>\n",
       "</table>\n",
       "</div>"
      ],
      "text/plain": [
       "                    id      username                                     name  \\\n",
       "0  1269736701410398209    f1mclaren2  Everything will be alright- Galatasaray   \n",
       "1  1269736672415154176      wrobelli                             Wolf Robelli   \n",
       "2  1269736634553176066     shinto_se                  SHINTO SELF EMPOWERMENT   \n",
       "3  1269736623123714054   tomashearty               Paws R Us Capital Research   \n",
       "4  1269736619621351426  atlantamumzy                            Mumzy Atlanta   \n",
       "\n",
       "                                               tweet  \n",
       "0  Tesla  https://twitter.com/hatiice_ak/status/1...  \n",
       "1  Man sollte diese Menschen mal für ein paar Woc...  \n",
       "2  Vortex Math Part 7 Nikola Tesla 3 6 9 - The Se...  \n",
       "3  So he’s like Tesla. (“)Dead(“) but with ATH ra...  \n",
       "4  I guess the easiest way to describe it, is Nik...  "
      ]
     },
     "execution_count": 17,
     "metadata": {},
     "output_type": "execute_result"
    }
   ],
   "source": [
    "tweet.head()"
   ]
  },
  {
   "cell_type": "code",
   "execution_count": 19,
   "metadata": {},
   "outputs": [
    {
     "name": "stdout",
     "output_type": "stream",
     "text": [
      "Collecting textblob\n",
      "  Downloading textblob-0.15.3-py2.py3-none-any.whl (636 kB)\n",
      "Requirement already satisfied: nltk>=3.1 in c:\\users\\hp\\anaconda3\\lib\\site-packages (from textblob) (3.4.5)\n",
      "Requirement already satisfied: six in c:\\users\\hp\\appdata\\roaming\\python\\python37\\site-packages (from nltk>=3.1->textblob) (1.14.0)\n",
      "Installing collected packages: textblob\n",
      "Successfully installed textblob-0.15.3\n",
      "Note: you may need to restart the kernel to use updated packages.\n"
     ]
    }
   ],
   "source": [
    "pip install textblob"
   ]
  },
  {
   "cell_type": "code",
   "execution_count": 20,
   "metadata": {},
   "outputs": [],
   "source": [
    "import textblob\n",
    "from textblob import TextBlob"
   ]
  },
  {
   "cell_type": "code",
   "execution_count": 21,
   "metadata": {},
   "outputs": [],
   "source": [
    "polarity=[]\n",
    "for i in tweet['tweet'].values:\n",
    "    try:\n",
    "        analysis=TextBlob(i)\n",
    "        polarity.append(analysis.sentiment.polarity)\n",
    "    except:\n",
    "        polarity.append(0)"
   ]
  },
  {
   "cell_type": "code",
   "execution_count": 22,
   "metadata": {},
   "outputs": [
    {
     "data": {
      "text/html": [
       "<div>\n",
       "<style scoped>\n",
       "    .dataframe tbody tr th:only-of-type {\n",
       "        vertical-align: middle;\n",
       "    }\n",
       "\n",
       "    .dataframe tbody tr th {\n",
       "        vertical-align: top;\n",
       "    }\n",
       "\n",
       "    .dataframe thead th {\n",
       "        text-align: right;\n",
       "    }\n",
       "</style>\n",
       "<table border=\"1\" class=\"dataframe\">\n",
       "  <thead>\n",
       "    <tr style=\"text-align: right;\">\n",
       "      <th></th>\n",
       "      <th>id</th>\n",
       "      <th>username</th>\n",
       "      <th>name</th>\n",
       "      <th>tweet</th>\n",
       "      <th>polarity</th>\n",
       "    </tr>\n",
       "  </thead>\n",
       "  <tbody>\n",
       "    <tr>\n",
       "      <th>0</th>\n",
       "      <td>1269736701410398209</td>\n",
       "      <td>f1mclaren2</td>\n",
       "      <td>Everything will be alright- Galatasaray</td>\n",
       "      <td>Tesla  https://twitter.com/hatiice_ak/status/1...</td>\n",
       "      <td>0.000</td>\n",
       "    </tr>\n",
       "    <tr>\n",
       "      <th>1</th>\n",
       "      <td>1269736672415154176</td>\n",
       "      <td>wrobelli</td>\n",
       "      <td>Wolf Robelli</td>\n",
       "      <td>Man sollte diese Menschen mal für ein paar Woc...</td>\n",
       "      <td>0.000</td>\n",
       "    </tr>\n",
       "    <tr>\n",
       "      <th>2</th>\n",
       "      <td>1269736634553176066</td>\n",
       "      <td>shinto_se</td>\n",
       "      <td>SHINTO SELF EMPOWERMENT</td>\n",
       "      <td>Vortex Math Part 7 Nikola Tesla 3 6 9 - The Se...</td>\n",
       "      <td>-0.050</td>\n",
       "    </tr>\n",
       "    <tr>\n",
       "      <th>3</th>\n",
       "      <td>1269736623123714054</td>\n",
       "      <td>tomashearty</td>\n",
       "      <td>Paws R Us Capital Research</td>\n",
       "      <td>So he’s like Tesla. (“)Dead(“) but with ATH ra...</td>\n",
       "      <td>-0.200</td>\n",
       "    </tr>\n",
       "    <tr>\n",
       "      <th>4</th>\n",
       "      <td>1269736619621351426</td>\n",
       "      <td>atlantamumzy</td>\n",
       "      <td>Mumzy Atlanta</td>\n",
       "      <td>I guess the easiest way to describe it, is Nik...</td>\n",
       "      <td>0.312</td>\n",
       "    </tr>\n",
       "  </tbody>\n",
       "</table>\n",
       "</div>"
      ],
      "text/plain": [
       "                    id      username                                     name  \\\n",
       "0  1269736701410398209    f1mclaren2  Everything will be alright- Galatasaray   \n",
       "1  1269736672415154176      wrobelli                             Wolf Robelli   \n",
       "2  1269736634553176066     shinto_se                  SHINTO SELF EMPOWERMENT   \n",
       "3  1269736623123714054   tomashearty               Paws R Us Capital Research   \n",
       "4  1269736619621351426  atlantamumzy                            Mumzy Atlanta   \n",
       "\n",
       "                                               tweet  polarity  \n",
       "0  Tesla  https://twitter.com/hatiice_ak/status/1...     0.000  \n",
       "1  Man sollte diese Menschen mal für ein paar Woc...     0.000  \n",
       "2  Vortex Math Part 7 Nikola Tesla 3 6 9 - The Se...    -0.050  \n",
       "3  So he’s like Tesla. (“)Dead(“) but with ATH ra...    -0.200  \n",
       "4  I guess the easiest way to describe it, is Nik...     0.312  "
      ]
     },
     "execution_count": 22,
     "metadata": {},
     "output_type": "execute_result"
    }
   ],
   "source": [
    "tweet['polarity']=polarity\n",
    "tweet.head()"
   ]
  },
  {
   "cell_type": "code",
   "execution_count": 23,
   "metadata": {
    "scrolled": true
   },
   "outputs": [
    {
     "name": "stderr",
     "output_type": "stream",
     "text": [
      "C:\\Users\\HP\\anaconda3\\lib\\site-packages\\ipykernel_launcher.py:1: SettingWithCopyWarning: \n",
      "A value is trying to be set on a copy of a slice from a DataFrame\n",
      "\n",
      "See the caveats in the documentation: https://pandas.pydata.org/pandas-docs/stable/user_guide/indexing.html#returning-a-view-versus-a-copy\n",
      "  \"\"\"Entry point for launching an IPython kernel.\n",
      "C:\\Users\\HP\\anaconda3\\lib\\site-packages\\ipykernel_launcher.py:2: SettingWithCopyWarning: \n",
      "A value is trying to be set on a copy of a slice from a DataFrame\n",
      "\n",
      "See the caveats in the documentation: https://pandas.pydata.org/pandas-docs/stable/user_guide/indexing.html#returning-a-view-versus-a-copy\n",
      "  \n",
      "C:\\Users\\HP\\anaconda3\\lib\\site-packages\\ipykernel_launcher.py:3: SettingWithCopyWarning: \n",
      "A value is trying to be set on a copy of a slice from a DataFrame\n",
      "\n",
      "See the caveats in the documentation: https://pandas.pydata.org/pandas-docs/stable/user_guide/indexing.html#returning-a-view-versus-a-copy\n",
      "  This is separate from the ipykernel package so we can avoid doing imports until\n",
      "C:\\Users\\HP\\anaconda3\\lib\\site-packages\\ipykernel_launcher.py:4: SettingWithCopyWarning: \n",
      "A value is trying to be set on a copy of a slice from a DataFrame\n",
      "\n",
      "See the caveats in the documentation: https://pandas.pydata.org/pandas-docs/stable/user_guide/indexing.html#returning-a-view-versus-a-copy\n",
      "  after removing the cwd from sys.path.\n",
      "C:\\Users\\HP\\anaconda3\\lib\\site-packages\\ipykernel_launcher.py:5: SettingWithCopyWarning: \n",
      "A value is trying to be set on a copy of a slice from a DataFrame\n",
      "\n",
      "See the caveats in the documentation: https://pandas.pydata.org/pandas-docs/stable/user_guide/indexing.html#returning-a-view-versus-a-copy\n",
      "  \"\"\"\n"
     ]
    }
   ],
   "source": [
    "tweet.polarity[tweet.polarity == 0.0] = 1\n",
    "tweet.polarity[(tweet.polarity > 0) & (tweet.polarity <= -0.40)] = 2\n",
    "tweet.polarity[(tweet.polarity > -0.4) & (tweet.polarity <= -0.99)] = 3\n",
    "tweet.polarity[(tweet.polarity > 0) & (tweet.polarity <= 0.30)] = 4\n",
    "tweet.polarity[(tweet.polarity > 0.30) & (tweet.polarity <= 0.99)] = 5\n",
    "\n",
    "#Where:\n",
    "#1 = Neural\n",
    "#2 = Slightly Negative\n",
    "#3 = Negative\n",
    "#4 = Slightly Positive\n",
    "#5 = Positive"
   ]
  },
  {
   "cell_type": "code",
   "execution_count": 24,
   "metadata": {
    "scrolled": true
   },
   "outputs": [
    {
     "data": {
      "text/html": [
       "<div>\n",
       "<style scoped>\n",
       "    .dataframe tbody tr th:only-of-type {\n",
       "        vertical-align: middle;\n",
       "    }\n",
       "\n",
       "    .dataframe tbody tr th {\n",
       "        vertical-align: top;\n",
       "    }\n",
       "\n",
       "    .dataframe thead th {\n",
       "        text-align: right;\n",
       "    }\n",
       "</style>\n",
       "<table border=\"1\" class=\"dataframe\">\n",
       "  <thead>\n",
       "    <tr style=\"text-align: right;\">\n",
       "      <th></th>\n",
       "      <th>id</th>\n",
       "      <th>username</th>\n",
       "      <th>name</th>\n",
       "      <th>tweet</th>\n",
       "      <th>polarity</th>\n",
       "    </tr>\n",
       "  </thead>\n",
       "  <tbody>\n",
       "    <tr>\n",
       "      <th>0</th>\n",
       "      <td>1269736701410398209</td>\n",
       "      <td>f1mclaren2</td>\n",
       "      <td>Everything will be alright- Galatasaray</td>\n",
       "      <td>Tesla  https://twitter.com/hatiice_ak/status/1...</td>\n",
       "      <td>1.00</td>\n",
       "    </tr>\n",
       "    <tr>\n",
       "      <th>1</th>\n",
       "      <td>1269736672415154176</td>\n",
       "      <td>wrobelli</td>\n",
       "      <td>Wolf Robelli</td>\n",
       "      <td>Man sollte diese Menschen mal für ein paar Woc...</td>\n",
       "      <td>1.00</td>\n",
       "    </tr>\n",
       "    <tr>\n",
       "      <th>2</th>\n",
       "      <td>1269736634553176066</td>\n",
       "      <td>shinto_se</td>\n",
       "      <td>SHINTO SELF EMPOWERMENT</td>\n",
       "      <td>Vortex Math Part 7 Nikola Tesla 3 6 9 - The Se...</td>\n",
       "      <td>-0.05</td>\n",
       "    </tr>\n",
       "    <tr>\n",
       "      <th>3</th>\n",
       "      <td>1269736623123714054</td>\n",
       "      <td>tomashearty</td>\n",
       "      <td>Paws R Us Capital Research</td>\n",
       "      <td>So he’s like Tesla. (“)Dead(“) but with ATH ra...</td>\n",
       "      <td>-0.20</td>\n",
       "    </tr>\n",
       "    <tr>\n",
       "      <th>4</th>\n",
       "      <td>1269736619621351426</td>\n",
       "      <td>atlantamumzy</td>\n",
       "      <td>Mumzy Atlanta</td>\n",
       "      <td>I guess the easiest way to describe it, is Nik...</td>\n",
       "      <td>5.00</td>\n",
       "    </tr>\n",
       "  </tbody>\n",
       "</table>\n",
       "</div>"
      ],
      "text/plain": [
       "                    id      username                                     name  \\\n",
       "0  1269736701410398209    f1mclaren2  Everything will be alright- Galatasaray   \n",
       "1  1269736672415154176      wrobelli                             Wolf Robelli   \n",
       "2  1269736634553176066     shinto_se                  SHINTO SELF EMPOWERMENT   \n",
       "3  1269736623123714054   tomashearty               Paws R Us Capital Research   \n",
       "4  1269736619621351426  atlantamumzy                            Mumzy Atlanta   \n",
       "\n",
       "                                               tweet  polarity  \n",
       "0  Tesla  https://twitter.com/hatiice_ak/status/1...      1.00  \n",
       "1  Man sollte diese Menschen mal für ein paar Woc...      1.00  \n",
       "2  Vortex Math Part 7 Nikola Tesla 3 6 9 - The Se...     -0.05  \n",
       "3  So he’s like Tesla. (“)Dead(“) but with ATH ra...     -0.20  \n",
       "4  I guess the easiest way to describe it, is Nik...      5.00  "
      ]
     },
     "execution_count": 24,
     "metadata": {},
     "output_type": "execute_result"
    }
   ],
   "source": [
    "tweet.head()"
   ]
  },
  {
   "cell_type": "code",
   "execution_count": 25,
   "metadata": {},
   "outputs": [
    {
     "name": "stdout",
     "output_type": "stream",
     "text": [
      "<class 'pandas.core.frame.DataFrame'>\n",
      "Int64Index: 380 entries, 0 to 379\n",
      "Data columns (total 1 columns):\n",
      " #   Column    Non-Null Count  Dtype\n",
      "---  ------    --------------  -----\n",
      " 0   polarity  380 non-null    int32\n",
      "dtypes: int32(1)\n",
      "memory usage: 14.5 KB\n"
     ]
    }
   ],
   "source": [
    "y=tweet[['polarity']]\n",
    "y=y.astype(int)\n",
    "y.info()"
   ]
  },
  {
   "cell_type": "code",
   "execution_count": 26,
   "metadata": {},
   "outputs": [],
   "source": [
    "from sklearn.model_selection import train_test_split\n",
    "X_train, X_test, y_train, y_test = train_test_split(X, y, test_size=0.22, random_state=0)"
   ]
  },
  {
   "cell_type": "code",
   "execution_count": 27,
   "metadata": {},
   "outputs": [],
   "source": [
    "from sklearn.naive_bayes import MultinomialNB\n",
    "classifier=MultinomialNB()"
   ]
  },
  {
   "cell_type": "code",
   "execution_count": 28,
   "metadata": {},
   "outputs": [],
   "source": [
    "from sklearn import metrics\n",
    "from sklearn.metrics import confusion_matrix"
   ]
  },
  {
   "cell_type": "code",
   "execution_count": 29,
   "metadata": {},
   "outputs": [
    {
     "name": "stderr",
     "output_type": "stream",
     "text": [
      "C:\\Users\\HP\\anaconda3\\lib\\site-packages\\sklearn\\utils\\validation.py:760: DataConversionWarning: A column-vector y was passed when a 1d array was expected. Please change the shape of y to (n_samples, ), for example using ravel().\n",
      "  y = column_or_1d(y, warn=True)\n"
     ]
    },
    {
     "name": "stdout",
     "output_type": "stream",
     "text": [
      "accuracy:   0.524\n"
     ]
    },
    {
     "data": {
      "text/plain": [
       "array([[ 0, 15,  0,  0],\n",
       "       [ 0, 44,  0,  0],\n",
       "       [ 0, 16,  0,  0],\n",
       "       [ 0,  9,  0,  0]], dtype=int64)"
      ]
     },
     "execution_count": 29,
     "metadata": {},
     "output_type": "execute_result"
    }
   ],
   "source": [
    "classifier.fit(X_train, y_train)\n",
    "pred = classifier.predict(X_test)\n",
    "score = metrics.accuracy_score(y_test, pred)\n",
    "print(\"accuracy:   %0.3f\" % score)\n",
    "metrics.confusion_matrix(y_test, pred)"
   ]
  },
  {
   "cell_type": "code",
   "execution_count": null,
   "metadata": {},
   "outputs": [],
   "source": []
  }
 ],
 "metadata": {
  "kernelspec": {
   "display_name": "Python 3",
   "language": "python",
   "name": "python3"
  },
  "language_info": {
   "codemirror_mode": {
    "name": "ipython",
    "version": 3
   },
   "file_extension": ".py",
   "mimetype": "text/x-python",
   "name": "python",
   "nbconvert_exporter": "python",
   "pygments_lexer": "ipython3",
   "version": "3.7.6"
  }
 },
 "nbformat": 4,
 "nbformat_minor": 4
}
